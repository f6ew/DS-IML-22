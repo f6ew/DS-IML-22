{
 "cells": [
  {
   "cell_type": "markdown",
   "id": "009f9c35",
   "metadata": {},
   "source": [
    "## NYC Taxi Data Experimnt Tracking"
   ]
  },
  {
   "cell_type": "code",
   "execution_count": null,
   "id": "b2bd82d7",
   "metadata": {},
   "outputs": [],
   "source": [
    "!python -V"
   ]
  },
  {
   "cell_type": "code",
   "execution_count": null,
   "id": "8b135c2b",
   "metadata": {},
   "outputs": [],
   "source": [
    "import pandas as pd\n",
    "\n",
    "from sklearn.feature_extraction import DictVectorizer\n",
    "from sklearn.linear_model import LinearRegression\n",
    "from sklearn.linear_model import Lasso\n",
    "from sklearn.linear_model import Ridge\n",
    "\n",
    "from sklearn.metrics import mean_squared_error"
   ]
  },
  {
   "cell_type": "code",
   "execution_count": null,
   "id": "f0b3c9b1",
   "metadata": {},
   "outputs": [],
   "source": [
    "train_raw_data = pd.read_parquet('green_tripdata_2021-01.parquet')\n",
    "val_raw_data = pd.read_parquet('green_tripdata_2021-02.parquet')"
   ]
  },
  {
   "cell_type": "code",
   "execution_count": null,
   "id": "caa0c926",
   "metadata": {},
   "outputs": [],
   "source": [
    "train_raw_data.head()"
   ]
  },
  {
   "cell_type": "code",
   "execution_count": null,
   "id": "333bf518",
   "metadata": {},
   "outputs": [],
   "source": [
    "def process_dataframe(data):\n",
    "    data.lpep_dropoff_datetime = pd.to_datetime(data.lpep_dropoff_datetime)\n",
    "    data.lpep_pickup_datetime = pd.to_datetime(data.lpep_pickup_datetime)\n",
    "\n",
    "    data['duration'] = data.lpep_dropoff_datetime - data.lpep_pickup_datetime\n",
    "    data.duration = data.duration.apply(lambda td: td.total_seconds() / 60)\n",
    "    data = data[(data.duration >= 1) & (data.duration <= 60)]\n",
    "    \n",
    "    data['PULocationID'].astype(str, copy=False)\n",
    "    data['DOLocationID'].astype(str, copy=False)\n",
    "    \n",
    "    return data"
   ]
  },
  {
   "cell_type": "code",
   "execution_count": null,
   "id": "36d77ff3",
   "metadata": {},
   "outputs": [],
   "source": [
    "num_features = ['trip_distance', 'extra', 'fare_amount']\n",
    "cat_features = ['PULocationID', 'DOLocationID']"
   ]
  },
  {
   "cell_type": "code",
   "execution_count": null,
   "id": "2e84bb84",
   "metadata": {},
   "outputs": [],
   "source": [
    "X_train = process_dataframe(train_raw_data)[num_features + cat_features]\n",
    "X_val = process_dataframe(val_raw_data)[num_features + cat_features] \n",
    "\n",
    "y_train = process_dataframe(train_raw_data)['duration']\n",
    "y_val = process_dataframe(val_raw_data)['duration'] "
   ]
  },
  {
   "cell_type": "code",
   "execution_count": null,
   "id": "75c9826d",
   "metadata": {},
   "outputs": [],
   "source": [
    "X_train.isnull().sum()"
   ]
  },
  {
   "cell_type": "markdown",
   "id": "ee6f0bfe",
   "metadata": {},
   "source": [
    "## Simple Experimnet "
   ]
  },
  {
   "cell_type": "code",
   "execution_count": null,
   "id": "c93df975",
   "metadata": {},
   "outputs": [],
   "source": [
    "lr = LinearRegression()\n",
    "lr.fit(X_train, y_train)\n",
    "\n",
    "y_pred = lr.predict(X_val)\n",
    "\n",
    "mean_squared_error(y_val, y_pred, squared=False)"
   ]
  },
  {
   "cell_type": "code",
   "execution_count": null,
   "id": "03728b63",
   "metadata": {},
   "outputs": [],
   "source": []
  },
  {
   "cell_type": "code",
   "execution_count": null,
   "id": "2052ea81",
   "metadata": {},
   "outputs": [],
   "source": []
  }
 ],
 "metadata": {
  "interpreter": {
   "hash": "0848c9d6c7d415ad6c477ff7ff8e98694d1a4aa96d0deee89244642e6b630036"
  },
  "kernelspec": {
   "display_name": "Python 3 (ipykernel)",
   "language": "python",
   "name": "python3"
  },
  "language_info": {
   "codemirror_mode": {
    "name": "ipython",
    "version": 3
   },
   "file_extension": ".py",
   "mimetype": "text/x-python",
   "name": "python",
   "nbconvert_exporter": "python",
   "pygments_lexer": "ipython3",
   "version": "3.9.12"
  }
 },
 "nbformat": 4,
 "nbformat_minor": 5
}
